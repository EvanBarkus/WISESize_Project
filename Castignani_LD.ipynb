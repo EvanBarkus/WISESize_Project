{
 "cells": [
  {
   "cell_type": "code",
   "execution_count": 1,
   "id": "3d2aabea-e98b-4c93-b3f4-565441b1fabc",
   "metadata": {
    "tags": []
   },
   "outputs": [],
   "source": [
    "import numpy as np\n",
    "from astropy.table import Table, Column, join\n",
    "from astropy.coordinates import SkyCoord\n",
    "from astropy.table import Column\n",
    "from numpy import *\n",
    "import matplotlib.pyplot as plt\n",
    "\n",
    "%matplotlib inline\n",
    "from astropy.wcs import WCS\n",
    "from astropy.io import fits,ascii\n",
    "from matplotlib.colors import LogNorm\n",
    "from astropy.utils.data import download_file\n",
    "import warnings\n",
    "import os\n",
    "\n",
    "warnings.filterwarnings('ignore')\n",
    "\n",
    "homedir = os.getenv(\"HOME\")\n",
    "catalog_path='D:Catalogs/2024-04-25-20240907T013110Z-001/2024-04-25/'"
   ]
  },
  {
   "cell_type": "code",
   "execution_count": 3,
   "id": "ae2c021a-6852-44f4-9c5f-f09f9fffee5e",
   "metadata": {
    "tags": []
   },
   "outputs": [],
   "source": [
    "#os.listdir(catalog_path)"
   ]
  },
  {
   "cell_type": "code",
   "execution_count": 2,
   "id": "797ac3c3-4cfa-4cee-9235-eb1a3437683f",
   "metadata": {
    "tags": []
   },
   "outputs": [],
   "source": [
    "from astropy import units as u"
   ]
  },
  {
   "cell_type": "code",
   "execution_count": 3,
   "id": "b7316e62-8b51-4b4b-b18b-05081ca526a7",
   "metadata": {
    "tags": []
   },
   "outputs": [
    {
     "name": "stdout",
     "output_type": "stream",
     "text": [
      "usage: readtablesv2.py [-h] [--tabledir TABLEDIR] [--tableprefix TABLEPREFIX]\n",
      "\n",
      "Read in all virgo filament tables\n",
      "\n",
      "options:\n",
      "  -h, --help            show this help message and exit\n",
      "  --tabledir TABLEDIR   directory where tables are stored\n",
      "  --tableprefix TABLEPREFIX\n",
      "                        prefix for tables; default is vf_v2\n"
     ]
    }
   ],
   "source": [
    "%run ~/Downloads/readtablesv2.py --help"
   ]
  },
  {
   "cell_type": "code",
   "execution_count": 4,
   "id": "a3ad7758-27e9-4d55-9120-43b60e375120",
   "metadata": {
    "tags": []
   },
   "outputs": [],
   "source": [
    "%run ~/Downloads/readtablesv2.py --tabledir $catalog_path"
   ]
  },
  {
   "cell_type": "code",
   "execution_count": 5,
   "id": "152c2546-e03c-4b75-832b-111d635879cd",
   "metadata": {
    "tags": []
   },
   "outputs": [],
   "source": [
    "# Tables\n",
    "myTab = Table.read(catalog_path+'vf_v2_main.fits') #v.main \n",
    "myTab2 = Table.read(catalog_path+'vf_v2_r_photometry.fits')"
   ]
  },
  {
   "cell_type": "code",
   "execution_count": 6,
   "id": "64aafdb1-3347-400a-9e8d-c40ea17234f4",
   "metadata": {
    "tags": []
   },
   "outputs": [],
   "source": [
    "# Reads in Environment table that contains local density values\n",
    "envTab=Table.read(catalog_path+'vf_v2_environment.fits')"
   ]
  },
  {
   "cell_type": "code",
   "execution_count": 7,
   "id": "e0767c88-9a2f-44f3-95b0-1e37502d9209",
   "metadata": {
    "tags": []
   },
   "outputs": [],
   "source": [
    "table = Table.read(catalog_path+'vf_v2_legacy_dr9.fits')"
   ]
  },
  {
   "cell_type": "code",
   "execution_count": 8,
   "id": "e84a537a-0a48-46d6-8ded-b0446692324a",
   "metadata": {
    "tags": []
   },
   "outputs": [],
   "source": [
    "myTab3 = Table.read('D:Catalogs/vfs_coords.fits')"
   ]
  },
  {
   "cell_type": "code",
   "execution_count": 9,
   "id": "a7e66b21-450b-462f-b9a2-50cca0aab80f",
   "metadata": {
    "tags": []
   },
   "outputs": [],
   "source": [
    "ra = np.array(myTab['RA']) # Right ascension of each galaxy\n",
    "dec = np.array(myTab['DEC']) # Declination of each galaxy\n",
    "z = np.array(myTab['vr']/(3*10**5)) # Redshifts\n",
    "id = np.arange(0,len(ra))"
   ]
  },
  {
   "cell_type": "code",
   "execution_count": 11,
   "id": "1c9502ce-7e01-4416-8466-434dd4444e71",
   "metadata": {
    "tags": []
   },
   "outputs": [],
   "source": [
    "c = SkyCoord(ra = ra*u.degree, dec = dec*u.degree)"
   ]
  },
  {
   "cell_type": "code",
   "execution_count": 10,
   "id": "d8422043-f8f0-4ec0-89b4-52fe7bd27b39",
   "metadata": {
    "tags": []
   },
   "outputs": [],
   "source": [
    "#colnames = np.array(['Right Ascension', 'Declination', 'Redshift'])\n",
    "col1 = fits.Column(name='ra', format='D', array=ra)\n",
    "col2 = fits.Column(name='dec', format='D', array=dec)\n",
    "col3 = fits.Column(name='z', format='D', array=z)\n",
    "col4 = fits.Column(name='id', format='D', array=id)"
   ]
  },
  {
   "cell_type": "code",
   "execution_count": 11,
   "id": "44d5d09f-8828-4821-a353-4c8e164180d6",
   "metadata": {
    "tags": []
   },
   "outputs": [],
   "source": [
    "coldefs = fits.ColDefs([col1, col2, col3, col4])"
   ]
  },
  {
   "cell_type": "code",
   "execution_count": 12,
   "id": "f2623d48-4ba4-4f4a-9560-1f703b406293",
   "metadata": {
    "tags": []
   },
   "outputs": [],
   "source": [
    "hdu = fits.BinTableHDU.from_columns([col1, col2, col3, col4])"
   ]
  },
  {
   "cell_type": "code",
   "execution_count": 13,
   "id": "7b330483-f4bc-46ae-b417-684061863e13",
   "metadata": {
    "tags": []
   },
   "outputs": [
    {
     "data": {
      "text/plain": [
       "ColDefs(\n",
       "    name = 'ra'; format = 'D'\n",
       "    name = 'dec'; format = 'D'\n",
       "    name = 'z'; format = 'D'\n",
       "    name = 'id'; format = 'D'\n",
       ")"
      ]
     },
     "execution_count": 13,
     "metadata": {},
     "output_type": "execute_result"
    }
   ],
   "source": [
    "hdu.columns"
   ]
  },
  {
   "cell_type": "code",
   "execution_count": 14,
   "id": "0b022baf-39a8-4fee-8dfe-daaca8a7f38c",
   "metadata": {
    "tags": []
   },
   "outputs": [
    {
     "data": {
      "text/plain": [
       "FITS_rec([(185.8687725, 74.9522485, 0.00603225, 0.000e+00),\n",
       "          (182.208    , 74.9042778, 0.00360586, 1.000e+00),\n",
       "          (145.944663 , 74.8595778, 0.01022899, 2.000e+00), ...,\n",
       "          (183.4117005, -1.2935267, 0.00865147, 6.777e+03),\n",
       "          (187.442571 , -1.2951077, 0.00817778, 6.778e+03),\n",
       "          (180.2962065, -1.2961195, 0.00392444, 6.779e+03)],\n",
       "         dtype=(numpy.record, [('ra', '<f8'), ('dec', '<f8'), ('z', '<f8'), ('id', '<f8')]))"
      ]
     },
     "execution_count": 14,
     "metadata": {},
     "output_type": "execute_result"
    }
   ],
   "source": [
    "hdu.data"
   ]
  },
  {
   "cell_type": "code",
   "execution_count": 29,
   "id": "a0933fed-f248-4ccc-a27f-8d10d35b8dd9",
   "metadata": {
    "tags": []
   },
   "outputs": [],
   "source": [
    "hdu.writeto('vfs_coords.fits',overwrite=True)"
   ]
  },
  {
   "cell_type": "code",
   "execution_count": 30,
   "id": "41468e24-635c-438e-96b9-364d11ced0aa",
   "metadata": {
    "tags": []
   },
   "outputs": [],
   "source": [
    "ascii.write(hdu.data,'vfs_ascii',names=(['ra','dec','z','id']),overwrite=True)"
   ]
  },
  {
   "cell_type": "code",
   "execution_count": 40,
   "id": "3efd51d0-01f7-4407-b66c-7038506359e6",
   "metadata": {
    "tags": []
   },
   "outputs": [],
   "source": [
    "px = np.array(envTab['SGX']) # Right ascension of each galaxy\n",
    "py = np.array(envTab['SGY']) # Declination of each galaxy\n",
    "pz = np.array(envTab['SGZ']) # Redshifts\n",
    "id2 = np.arange(0,len(px))"
   ]
  },
  {
   "cell_type": "code",
   "execution_count": 23,
   "id": "832fbb9d-343d-4b33-ac46-abb54480f03c",
   "metadata": {
    "tags": []
   },
   "outputs": [
    {
     "data": {
      "text/plain": [
       "-39.24817391098055"
      ]
     },
     "execution_count": 23,
     "metadata": {},
     "output_type": "execute_result"
    }
   ],
   "source": [
    "min(pz)"
   ]
  },
  {
   "cell_type": "code",
   "execution_count": 52,
   "id": "858c67be-9b2a-4bda-841f-e5b56d011f68",
   "metadata": {
    "tags": []
   },
   "outputs": [],
   "source": [
    "px1 = []\n",
    "py1 = []\n",
    "pz1 = []\n",
    "for i in range(len(px)):\n",
    "    a = px[i]\n",
    "    b = py[i]\n",
    "    c = pz[i]\n",
    "    px1.append(np.format_float_scientific(a,precision=8))\n",
    "    py1.append(np.format_float_scientific(b,precision=8))\n",
    "    pz1.append(np.format_float_scientific(c,precision=8))\n",
    "    \n",
    "px2 = np.array(px1)\n",
    "py2 = np.array(py1)\n",
    "pz2 = np.array(pz1)"
   ]
  },
  {
   "cell_type": "code",
   "execution_count": 58,
   "id": "76b8a264-0a38-424e-9734-39168e4c6c0a",
   "metadata": {
    "tags": []
   },
   "outputs": [
    {
     "data": {
      "text/plain": [
       "array(['1.17380321e+01', '7.01766198e+00', '1.82369387e+01',\n",
       "       '1.43805709e+01', '1.34294676e+01', '1.42473308e+01',\n",
       "       '1.44296245e+01', '1.35067846e+01', '6.34142154e+00'], dtype='<U15')"
      ]
     },
     "execution_count": 58,
     "metadata": {},
     "output_type": "execute_result"
    }
   ],
   "source": [
    "py2[0:9]"
   ]
  },
  {
   "cell_type": "code",
   "execution_count": 54,
   "id": "b738dc01-392b-4032-b4e1-12ef8ffe9a0e",
   "metadata": {
    "tags": []
   },
   "outputs": [],
   "source": [
    "col1x = fits.Column(name='px', format='D', array=px2)\n",
    "col2y = fits.Column(name='py', format='D', array=py2)\n",
    "col3z = fits.Column(name='pz', format='D', array=pz2)\n",
    "col4id = fits.Column(name='id', format='D', array=id2)\n",
    "coldefsq = fits.ColDefs([col1x, col2y, col3z,col4id])"
   ]
  },
  {
   "cell_type": "code",
   "execution_count": 55,
   "id": "0e168ca8-43fe-4634-9612-ec1ad74b07bc",
   "metadata": {
    "tags": []
   },
   "outputs": [],
   "source": [
    "hdu2 = fits.BinTableHDU.from_columns([col1x, col2y, col3z,col4id])"
   ]
  },
  {
   "cell_type": "code",
   "execution_count": 56,
   "id": "de8ea716-6188-4353-b029-e97603dd9034",
   "metadata": {
    "tags": []
   },
   "outputs": [
    {
     "data": {
      "text/plain": [
       "ColDefs(\n",
       "    name = 'px'; format = 'D'\n",
       "    name = 'py'; format = 'D'\n",
       "    name = 'pz'; format = 'D'\n",
       "    name = 'id'; format = 'D'\n",
       ")"
      ]
     },
     "execution_count": 56,
     "metadata": {},
     "output_type": "execute_result"
    }
   ],
   "source": [
    "hdu2.columns"
   ]
  },
  {
   "cell_type": "code",
   "execution_count": 59,
   "id": "5c039fb2-a815-4f37-8ba8-3d6c4d855e78",
   "metadata": {
    "tags": []
   },
   "outputs": [
    {
     "data": {
      "text/plain": [
       "FITS_rec([( 13.1456898 , 11.7380321 ,  4.11119836, 0.000e+00),\n",
       "          (  7.90894906,  7.01766198,  2.28496921, 1.000e+00),\n",
       "          ( 24.5723201 , 18.2369387 ,  2.30348637, 2.000e+00), ...,\n",
       "          (-10.745671  , 23.1647097 , -4.64304772, 6.777e+03),\n",
       "          (-10.682977  , 21.9139265 , -2.74578417, 6.778e+03),\n",
       "          ( -4.66428714, 10.4650037 , -2.70909824, 6.779e+03)],\n",
       "         dtype=(numpy.record, [('px', '<f8'), ('py', '<f8'), ('pz', '<f8'), ('id', '<f8')]))"
      ]
     },
     "execution_count": 59,
     "metadata": {},
     "output_type": "execute_result"
    }
   ],
   "source": [
    "hdu2.data"
   ]
  },
  {
   "cell_type": "code",
   "execution_count": 60,
   "id": "6c6f5259-22b6-40eb-9293-e81bb2fe334d",
   "metadata": {
    "tags": []
   },
   "outputs": [],
   "source": [
    "ascii.write(hdu2.data,'vfs_ascii_SG',names=(['px','py','pz','id']),overwrite=True)"
   ]
  },
  {
   "cell_type": "code",
   "execution_count": null,
   "id": "1664045b-5e0a-4c21-afe2-e47903d6e5b8",
   "metadata": {
    "tags": []
   },
   "outputs": [],
   "source": [
    "print(len(ra))\n",
    "\n",
    "#Plot RA vs DEC and colored by local density\n",
    "plt.figure(figsize=(12,5))\n",
    "plt.scatter(ra,dec,c=vpoints,cmap='viridis',s=4)\n",
    "plt.xlim(reversed(plt.xlim()))\n",
    "plt.title('VFS')\n",
    "plt.xlabel('RA [Degrees]')\n",
    "plt.ylabel('DEC [Degrees]')\n",
    "plt.xlim(280,100)\n",
    "plt.ylim(-2,75)\n",
    "cbar = plt.colorbar()\n",
    "#plt.clim(-1.5,2.7)\n",
    "cbar.set_label('Redshift',rotation=270,labelpad=20)"
   ]
  },
  {
   "cell_type": "markdown",
   "id": "07007c18-658a-4115-91b0-1c7d3309b566",
   "metadata": {},
   "source": [
    "### Cut Tables"
   ]
  },
  {
   "cell_type": "code",
   "execution_count": null,
   "id": "f08fe734-e93b-4e31-9d7e-7ef14200f79c",
   "metadata": {
    "tags": []
   },
   "outputs": [],
   "source": [
    "# Catalog cuts from Castignani\n",
    "\n",
    "# RA cut\n",
    "raTab = myTab['RA']\n",
    "ramax = 280\n",
    "ramin = 100\n",
    "raflag = (raTab>ramin) & (raTab<ramax)\n",
    "\n",
    "# DEC cut\n",
    "decTab = myTab['DEC']\n",
    "decmin = -1.3\n",
    "decmax = 75\n",
    "decflag = (decTab>decmin) & (decTab<decmax)\n",
    "\n",
    "# Magnitude cut\n",
    "Mr = table['Mr'] #myTab2['M_r']\n",
    "Mrmax = -15.7\n",
    "Mrflag = (Mr <= Mrmax) #(Mr > Mrmin)\n",
    "\n",
    "# Velocity cut\n",
    "vr = envTab['Vcosmic']\n",
    "vflag = (vr > 500) & (vr < 3300)\n",
    "\n",
    "# SG cuts\n",
    "#sgx = envTab['SGX']\n",
    "#sgy = envTab['SGY']\n",
    "#sgz = envTab['SGZ']\n",
    "#xflag = (-13 < sgx) & (sgx < 20)\n",
    "#yflag = (2 < sgy) & (sgy < 38)\n",
    "#zflag = (-15 < sgz) & (sgz < 33)\n",
    "\n",
    "cut = raflag & decflag & Mrflag & vflag #& xflag & yflag & zflag & vflag\n",
    "#cut = Mrflag #& vflag\n",
    "\n",
    "cuttab = myTab[cut]\n",
    "\n",
    "# Applying same cuts to environment table\n",
    "envcuttab = envTab[cut]"
   ]
  },
  {
   "cell_type": "code",
   "execution_count": null,
   "id": "d7343ad6-7be7-47cd-935b-d213de0f26d3",
   "metadata": {
    "tags": []
   },
   "outputs": [],
   "source": [
    "print(len(envcuttab))\n",
    "print(len(cuttab))"
   ]
  },
  {
   "cell_type": "markdown",
   "id": "37e96806-3870-4b06-967d-a6bdc8824cf4",
   "metadata": {},
   "source": [
    "### Setup"
   ]
  },
  {
   "cell_type": "code",
   "execution_count": null,
   "id": "e192e652-c184-4386-8802-7489624d8543",
   "metadata": {
    "tags": []
   },
   "outputs": [],
   "source": [
    "ra = np.array(cuttab['RA']) # Right ascension of each galaxy\n",
    "dec = np.array(cuttab['DEC']) # Declination of each galaxy\n",
    "vpoints = np.array(envcuttab['Vcosmic']) # envcuttab['Vcosmic'] Recessional velocity of each galaxy\n",
    "\n",
    "sgy = envcuttab['SGY']\n",
    "\n",
    "\n",
    "# Set up array of galaxy locations\n",
    "points = []\n",
    "for i in range(len(dec)):\n",
    "    points.append((ra[i],dec[i])) # Array of tuples of ra and dec (each galaxy now represented by a point)\n",
    "        \n",
    "n = len(points)\n",
    "\n",
    "def distance(ra1, dec1, ra2, dec2):\n",
    "    return np.sqrt(((ra1 - ra2))**2 + (dec1 - dec2)**2) # Distance between two points *np.cos(dec1)\n",
    "\n",
    "def Five_Nearest(points, target, K, sgytarget, vtarg):\n",
    "    pts = []\n",
    "    d = []\n",
    "\n",
    "    for i in range(n): # (1,n)\n",
    "        if (abs(sgy[i] - sgytarget) <= 5.6 ):\n",
    "        #if (abs(vtarg - vpoints[i]) < 300): # Compares the velocity of each galaxy to the next and records it if it is within +/- 300 km/s\n",
    "            d.append({\n",
    "                \"first\": distance(points[i][0], points[i][1], target[0], target[1]), # Finds distance between target point and another point\n",
    "                \"second\": i # Stores index number corresponding to the point that had its distance relative to the target found\n",
    "            })\n",
    "     \n",
    "    d.sort(key=lambda x: x[\"first\"]) # Sorts d from smallest to largest distance for each target point\n",
    " \n",
    "    for i in range(K): # Loops through for however many times are specified by K (I will use K=6)\n",
    "        pt = []\n",
    "        pt.append(points[d[i][\"second\"]][0]) # First element of a tuple in an array of nearest points sorted by distance\n",
    "        pt.append(points[d[i][\"second\"]][1]) # Second element of a tuple in an array of nearest points sorted by distance\n",
    "        pts.append(pt) # Stores all individual pt values as tuples\n",
    " \n",
    "    return pts # Returns the six nearest galaxies to a target galaxy (the first of which is the original target galaxy)"
   ]
  },
  {
   "cell_type": "markdown",
   "id": "b475dab4-4527-4ae7-b74d-d247b3249978",
   "metadata": {},
   "source": [
    "### Main Algorithm"
   ]
  },
  {
   "cell_type": "code",
   "execution_count": null,
   "id": "5159396c-32cf-4b97-b61f-71db9328a465",
   "metadata": {
    "tags": []
   },
   "outputs": [],
   "source": [
    "def Local_Density(cuttab):\n",
    "\n",
    "    # Find five nearest galaxies to each galaxy\n",
    "    five_nn = [] # Store nearest neighbors\n",
    "\n",
    "    K = 6 # Number of times to calculate nearest neighbors \n",
    "    for j in range(n):\n",
    "        target = points[j] # Switches target point\n",
    "        vtarg = envcuttab['Vcosmic'][j]\n",
    "        sgytarget = envcuttab['SGY'][j]\n",
    "        for pt in Five_Nearest(points, target, K, sgytarget, vtarg): # Calculates five nearest points for each galaxy in points and stores them along with their targets\n",
    "            five_nn.append((pt[0], pt[1])) # Includes six points for each target, the first of which in each set is the target itself\\\n",
    "\n",
    "    # Separating target points from fifth nearest points\n",
    "    target_fnn = np.array(points) # list of original target galaxies\n",
    "    five_nn = np.array(five_nn)\n",
    "\n",
    "    fifth_nn = np.array(five_nn[5::6]) # skips every six points starting with the sixth value so that all that is left is the fifth nearest point of each target\n",
    "\n",
    "    # Finding angular distance\n",
    "    dist_fifth_nn = []\n",
    "    \n",
    "    # Calculates angular distance between each galaxy and its fifth nearest meighbor\n",
    "    for i in range(n):\n",
    "        target0 = target_fnn[i] # Changes target on each loop through\n",
    "        dist_fifth_nn.append(distance(fifth_nn[i][0], fifth_nn[i][1], target0[0], target0[1])) # Produces distance array\n",
    "\n",
    "    # Finds velocities of fifth nearest neighbors\n",
    "    v = []\n",
    "    for i in range(len(fifth_nn)):\n",
    "        for j in range(n): \n",
    "            if (fifth_nn[i][0] == points[j][0]) & (fifth_nn[i][1] == points[j][1]):\n",
    "                v.append(envcuttab['Vcosmic'][i]) #[j] envcuttab['Vcosmic']\n",
    "\n",
    "    # Convert angles in degrees to radians\n",
    "    radians = (np.pi/180)*(np.array(dist_fifth_nn))\n",
    "\n",
    "    # Finding distance, in Mpc, between the Sun and the galaxies\n",
    "    H0 = 74 #km/s/Mpc\n",
    "    d = (np.array(v))/H0 #Mpc np.array(v) np.array(cuttab['vr'])\n",
    "\n",
    "    # Using small angle approximation to find distance between galaxies\n",
    "    r_5 = d*np.sin(radians) #Mpc\n",
    "\n",
    "\n",
    "    # Find fifth nearest neighbor density\n",
    "    sigma_5 = 5/(np.pi*(r_5**2)) \n",
    "    \n",
    "    return sigma_5"
   ]
  },
  {
   "cell_type": "code",
   "execution_count": null,
   "id": "a0984c69-f2c3-4f16-9224-760c2893d80e",
   "metadata": {
    "tags": []
   },
   "outputs": [],
   "source": [
    "sigma_5 = Local_Density(cuttab)"
   ]
  },
  {
   "cell_type": "code",
   "execution_count": null,
   "id": "6002cda0-84a6-4285-bef7-d6b937ba203e",
   "metadata": {
    "tags": []
   },
   "outputs": [],
   "source": [
    "max(sigma_5)"
   ]
  },
  {
   "cell_type": "code",
   "execution_count": null,
   "id": "756ffdbd-fb7b-4bd0-b1e7-b9a7ec3cc74f",
   "metadata": {
    "tags": []
   },
   "outputs": [],
   "source": [
    "# Local densities\n",
    "my_sigma_5 = sigma_5 # from my calculations\n",
    "vfs_sigma_5 = envcuttab['n5th_2D'] # from vfs"
   ]
  },
  {
   "cell_type": "code",
   "execution_count": null,
   "id": "f77222fa-0712-449e-a718-b734d6dc9335",
   "metadata": {
    "tags": []
   },
   "outputs": [],
   "source": [
    "max(vfs_sigma_5)"
   ]
  },
  {
   "cell_type": "code",
   "execution_count": null,
   "id": "2f55a44d-7c98-4722-8f05-a35a317bcb3d",
   "metadata": {
    "tags": []
   },
   "outputs": [],
   "source": [
    "plt.hist(np.log10(my_sigma_5),label='My Local Density',histtype='step',bins=30,hatch='+')\n",
    "plt.hist(np.log10(vfs_sigma_5),label='VFS Local Density',histtype='step',bins=30,hatch='x')\n",
    "\n",
    "plt.xlabel('$\\sigma _5$')\n",
    "plt.legend()"
   ]
  },
  {
   "cell_type": "code",
   "execution_count": null,
   "id": "07de4618-52b9-46a3-836c-b4e4412c06c8",
   "metadata": {
    "tags": []
   },
   "outputs": [],
   "source": [
    "# My local density plot\n",
    "\n",
    "v1 = envcuttab['Vcosmic']\n",
    "# 500 & 3300\n",
    "vcut1 = (v1>500) & (v1<1300)\n",
    "\n",
    "ra1 = cuttab['RA'][vcut1]\n",
    "dec1 = cuttab['DEC'][vcut1]\n",
    "ccode1 = np.log10(my_sigma_5[vcut1])\n",
    "\n",
    "print(len(ra1))\n",
    "\n",
    "#Plot RA vs DEC and colored by local density\n",
    "plt.figure(figsize=(12,5))\n",
    "plt.scatter(ra1,dec1,c=ccode1,cmap='inferno',s=4)\n",
    "plt.xlim(reversed(plt.xlim()))\n",
    "plt.title('500 < Vcosmic [km/s] < 1300')\n",
    "plt.xlabel('RA [Degrees]')\n",
    "plt.ylabel('DEC [Degrees]')\n",
    "plt.xlim(280,100)\n",
    "plt.ylim(-2,75)\n",
    "cbar = plt.colorbar()\n",
    "#plt.clim(-1.5,2.7)\n",
    "cbar.set_label('log($\\sigma _5$) [\\Mpc$^2$]',rotation=270,labelpad=20)"
   ]
  },
  {
   "cell_type": "code",
   "execution_count": null,
   "id": "5d60f4e6-f630-4262-bde8-c581f1766a85",
   "metadata": {
    "tags": []
   },
   "outputs": [],
   "source": [
    "v4 = envcuttab['Vcosmic']\n",
    "# 500 & 3300\n",
    "vcut4 = (v4>1300) & (v4<2000)\n",
    "\n",
    "ra1 = cuttab['RA'][vcut4]\n",
    "dec1 = cuttab['DEC'][vcut4]\n",
    "ccode1 = np.log10(my_sigma_5[vcut4])\n",
    "\n",
    "print(len(ra1))\n",
    "\n",
    "#Plot RA vs DEC and colored by local density\n",
    "plt.figure(figsize=(12,5))\n",
    "plt.scatter(ra1,dec1,c=ccode1,cmap='inferno',s=4)\n",
    "plt.xlim(reversed(plt.xlim()))\n",
    "plt.title('1300 < Vcosmic [km/s] < 2000')\n",
    "plt.xlabel('RA [Degrees]')\n",
    "plt.ylabel('DEC [Degrees]')\n",
    "plt.xlim(280,100)\n",
    "plt.ylim(-2,75)\n",
    "cbar = plt.colorbar()\n",
    "#plt.clim(-1.5,2.7)\n",
    "cbar.set_label('log($\\sigma _5$) [\\Mpc$^2$]',rotation=270,labelpad=20)"
   ]
  },
  {
   "cell_type": "code",
   "execution_count": null,
   "id": "37c5708c-ab2c-47d4-a4ad-4ca8d1c1bee8",
   "metadata": {
    "tags": []
   },
   "outputs": [],
   "source": [
    "v2 = envcuttab['Vcosmic']\n",
    "# 500 & 3300\n",
    "vcut2 = (v2>2000) & (v2<2600)\n",
    "\n",
    "ra2 = cuttab['RA'][vcut2]\n",
    "dec2 = cuttab['DEC'][vcut2]\n",
    "ccode2 = np.log10(my_sigma_5[vcut2])\n",
    "\n",
    "print(len(ra2))\n",
    "\n",
    "#Plot RA vs DEC and colored by local density\n",
    "plt.figure(figsize=(12,5))\n",
    "plt.scatter(ra2,dec2,c=ccode2,cmap='inferno',s=4)\n",
    "plt.xlim(reversed(plt.xlim()))\n",
    "plt.title('2000 < Vcosmic [km/s] < 2600')\n",
    "plt.xlabel('RA [Degrees]')\n",
    "plt.ylabel('DEC [Degrees]')\n",
    "plt.xlim(280,100)\n",
    "plt.ylim(-2,75)\n",
    "cbar = plt.colorbar()\n",
    "plt.clim(-1.3,2.2)\n",
    "cbar.set_label('log($\\sigma _5$) [\\Mpc$^2$]',rotation=270,labelpad=20)"
   ]
  },
  {
   "cell_type": "code",
   "execution_count": null,
   "id": "ceb121a1-d50a-4ef4-9665-44efbe580531",
   "metadata": {
    "tags": []
   },
   "outputs": [],
   "source": [
    "v3 = envcuttab['Vcosmic']\n",
    "# 500 & 3300\n",
    "vcut3 = (v3>2600) & (v3<3300)\n",
    "\n",
    "ra3 = cuttab['RA'][vcut3]\n",
    "dec3 = cuttab['DEC'][vcut3]\n",
    "ccode3 = np.log10(my_sigma_5[vcut3])\n",
    "\n",
    "print(len(ra3))\n",
    "\n",
    "#Plot RA vs DEC and colored by local density\n",
    "plt.figure(figsize=(12,5))\n",
    "plt.scatter(ra3,dec3,c=ccode3,cmap='inferno',s=4)\n",
    "plt.xlim(reversed(plt.xlim()))\n",
    "plt.title('2600 < Vcosmic [km/s] < 3300')\n",
    "plt.xlabel('RA [Degrees]')\n",
    "plt.ylabel('DEC [Degrees]')\n",
    "plt.xlim(280,100)\n",
    "plt.ylim(-2,75)\n",
    "cbar = plt.colorbar()\n",
    "#plt.clim(-1.5,2.7)\n",
    "cbar.set_label('log($\\sigma _5$) [\\Mpc$^2$]',rotation=270,labelpad=20)"
   ]
  },
  {
   "cell_type": "code",
   "execution_count": null,
   "id": "d13a8d8f-bc92-4c1b-849e-d70e935bc32e",
   "metadata": {
    "tags": []
   },
   "outputs": [],
   "source": [
    "# VFS local density plot\n",
    "\n",
    "ravfs = cuttab['RA']\n",
    "decvfs = cuttab['DEC']\n",
    "ccodevfs = np.log10(vfs_sigma_5)\n",
    "\n",
    "#Plot RA vs DEC and color it by recessional velocity\n",
    "plt.figure(figsize=(12,5))\n",
    "plt.scatter(ravfs,decvfs,c=ccodevfs,cmap='inferno',s=4) # ,alpha=0.8\n",
    "plt.xlim(reversed(plt.xlim()))\n",
    "plt.title('VFS Local Density')\n",
    "plt.xlabel('RA (degrees)')\n",
    "plt.ylabel('DEC (degrees)')\n",
    "plt.xlim(280,100)\n",
    "plt.ylim(-2,75)\n",
    "cbar = plt.colorbar()\n",
    "cbar.set_label('log(Sigma_5) (\\Mpc^2)',rotation=270,labelpad=20)"
   ]
  },
  {
   "cell_type": "code",
   "execution_count": null,
   "id": "6706dadf-5775-49b6-878f-adbe5a1f19f7",
   "metadata": {
    "tags": []
   },
   "outputs": [],
   "source": [
    "print(median(my_sigma_5))\n",
    "print(median(vfs_sigma_5))"
   ]
  },
  {
   "cell_type": "code",
   "execution_count": null,
   "id": "381b70a7-c4f9-48c8-98d5-29f5d294b8af",
   "metadata": {
    "tags": []
   },
   "outputs": [],
   "source": [
    "x1 = my_sigma_5\n",
    "y1 = vfs_sigma_5\n",
    "yerr = median(envcuttab['n5th_2D_err']) #std(y1)//np.sqrt(len(y1))\n",
    "xerr = std(x1)/np.sqrt(len(x1))\n",
    "#xerr = median(np.sqrt(((-2/(x1**3))**2)*(std(x1)**2)))\n",
    "\n",
    "x = 10**(2.3)\n",
    "y = 10**(-1.5)\n",
    "\n",
    "#calculate equation for trendline\n",
    "z1 = np.polyfit(x1, x1, 1) # for 1-1 line\n",
    "p = np.poly1d(z1)\n",
    "\n",
    "#a,b = np.polyfit(np.log10(x1), np.log10(y1), 1) # for line of best fit\n",
    "z2 = np.polyfit(x1, y1, 1)\n",
    "p2 = np.poly1d(z2)\n",
    "\n",
    "fig, ax = plt.subplots()\n",
    "\n",
    "ax.scatter(np.log10(x1), np.log10(y1), color='black', s=6)\n",
    "ax.set_xlabel('log($\\sigma _{5,EB}$) [\\Mpc$^2$]')\n",
    "ax.set_ylabel('log($\\sigma _{5,VFS}$) [\\Mpc$^2$]')\n",
    "ax.set_title('Local Densities Compared')\n",
    "\n",
    "#bfline = np.arange(min(p2(x1)),max(p2(x1)),1)\n",
    "#bfx = np.arange(min(x1),max(x1),1)\n",
    "\n",
    "#add trendline to plot\n",
    "#plt.plot(np.log10(x1), np.log10(p2(x1)),color='b',label='Line of best fit')\n",
    "#ax.plot(np.log10(x1),a*np.log10(x1)+b,label='Best Fit')\n",
    "ax.plot(np.log10(x1),np.log10(p(x1)),color='r',label='1-1 line')\n",
    "\n",
    "ax.errorbar(np.log10(x),np.log10(y),xerr=abs(np.log10(xerr)),yerr=abs(np.log10(yerr)),color='black') #,fmt='o'\n",
    "ax.legend()"
   ]
  },
  {
   "cell_type": "code",
   "execution_count": null,
   "id": "fe9f67d6-43a7-418c-bf3c-25e5744ee962",
   "metadata": {
    "tags": []
   },
   "outputs": [],
   "source": [
    "import scipy.stats as stats\n",
    "\n",
    "test = stats.chisquare(x1, np.sum(x1)/np.sum(y1) * y1)"
   ]
  },
  {
   "cell_type": "code",
   "execution_count": null,
   "id": "4a1f2153-9ba3-4845-befb-0c19d5d7518c",
   "metadata": {
    "tags": []
   },
   "outputs": [],
   "source": [
    "print(test)"
   ]
  },
  {
   "cell_type": "code",
   "execution_count": null,
   "id": "35525442-5508-4e66-bea9-717fc8e00507",
   "metadata": {
    "tags": []
   },
   "outputs": [],
   "source": [
    "ks = stats.kstest(x1,y1)\n",
    "print(ks)"
   ]
  },
  {
   "cell_type": "code",
   "execution_count": null,
   "id": "4a9c24c2-6416-4f52-898e-fda03ecc9ef0",
   "metadata": {
    "tags": []
   },
   "outputs": [],
   "source": [
    "# Mass vs Local Density plot\n",
    "#log_Mass_dyn from kourkchi_groups_info\n",
    "kourkchi = Table.read(catalog_path+'vf_v2_kourkchi_galaxies.fits')"
   ]
  },
  {
   "cell_type": "code",
   "execution_count": null,
   "id": "98304f67-e705-40a5-bbc4-cbee879831e1",
   "metadata": {
    "tags": []
   },
   "outputs": [],
   "source": [
    "kourkchi.colnames"
   ]
  },
  {
   "cell_type": "code",
   "execution_count": null,
   "id": "209a0033-a74d-4342-b656-6f750c1d0add",
   "metadata": {
    "tags": []
   },
   "outputs": [],
   "source": [
    "kcut = kourkchi[cut]"
   ]
  },
  {
   "cell_type": "code",
   "execution_count": null,
   "id": "6e8db98d-2a45-478a-b762-1ec536d0af73",
   "metadata": {
    "tags": []
   },
   "outputs": [],
   "source": [
    "# LD Bins\n",
    "dyn_mass = kcut['log_Mass_lum_adapted']\n",
    "\n",
    "ld = np.log10(my_sigma_5)\n",
    "\n",
    "one = (ld <= -0.5)\n",
    "two = (ld > -0.5) & (ld <= 0)\n",
    "three = (ld > 0) & (ld <= 0.5)\n",
    "four = (ld > 0.5) & (ld <= 1)\n",
    "five = (ld > 1) & (ld <= 1.5)\n",
    "six = (ld > 1.5)\n",
    "\n",
    "ldone = median(ld[one])\n",
    "ldtwo = median(ld[two])\n",
    "ldthree = median(ld[three])\n",
    "ldfour = median(ld[four])\n",
    "ldfive = median(ld[five])\n",
    "ldsix = median(ld[six])\n",
    "\n",
    "local_density = [ldone,ldtwo,ldthree,ldfour,ldfive,ldsix]\n",
    "\n",
    "mone = median(dyn_mass[one])\n",
    "mtwo = median(dyn_mass[two])\n",
    "mthree = median(dyn_mass[three])\n",
    "mfour = median(dyn_mass[four])\n",
    "mfive = median(dyn_mass[five])\n",
    "msix = median(dyn_mass[six])\n",
    "\n",
    "mass_ld = [mone,mtwo,mthree,mfour,mfive,msix]\n",
    "\n",
    "yerr1 = std(dyn_mass[one])\n",
    "yerr2 = std(dyn_mass[two])\n",
    "yerr3 = std(dyn_mass[three])\n",
    "yerr4 = std(dyn_mass[four])\n",
    "yerr5 = std(dyn_mass[five])\n",
    "yerr6 = std(dyn_mass[six])"
   ]
  },
  {
   "cell_type": "code",
   "execution_count": null,
   "id": "020dbcf7-7cb7-4fc7-b698-dcb8e614d0bd",
   "metadata": {
    "tags": []
   },
   "outputs": [],
   "source": [
    "print(len(ld[one]))\n",
    "print(len(ld[two]))\n",
    "print(len(ld[three]))\n",
    "print(len(ld[four]))\n",
    "print(len(ld[five]))\n",
    "print(len(ld[six]))"
   ]
  },
  {
   "cell_type": "code",
   "execution_count": null,
   "id": "258b842a-da03-4807-a622-3dff3f3a8850",
   "metadata": {
    "tags": []
   },
   "outputs": [],
   "source": [
    "fig, ax = plt.subplots()\n",
    "\n",
    "#ax.scatter(np.log10(vfs_sigma_5),dyn_mass,color='black')\n",
    "ax.plot(local_density,mass_ld,color='black')\n",
    "ax.errorbar(local_density[0],mass_ld[0],yerr=yerr1,color='black',fmt='o')\n",
    "ax.errorbar(local_density[1],mass_ld[1],yerr=yerr2,color='black',fmt='o')\n",
    "ax.errorbar(local_density[2],mass_ld[2],yerr=yerr3,color='black',fmt='o')\n",
    "ax.errorbar(local_density[3],mass_ld[3],yerr=yerr4,color='black',fmt='o')\n",
    "ax.errorbar(local_density[4],mass_ld[4],yerr=yerr5,color='black',fmt='o')\n",
    "ax.errorbar(local_density[5],mass_ld[5],yerr=yerr6,color='black',fmt='o')\n",
    "ax.set_ylabel('Group Mass (log) [M$_\\odot$]')\n",
    "ax.set_xlabel('log($\\sigma _{5,EB}$) [\\Mpc$^2$]')\n",
    "ax.set_title('Group Mass vs. Local Density')\n",
    "# break into bins of mass or maybe local density and plot those as points with uncertainty"
   ]
  }
 ],
 "metadata": {
  "kernelspec": {
   "display_name": "Python 3 (ipykernel)",
   "language": "python",
   "name": "python3"
  },
  "language_info": {
   "codemirror_mode": {
    "name": "ipython",
    "version": 3
   },
   "file_extension": ".py",
   "mimetype": "text/x-python",
   "name": "python",
   "nbconvert_exporter": "python",
   "pygments_lexer": "ipython3",
   "version": "3.11.4"
  }
 },
 "nbformat": 4,
 "nbformat_minor": 5
}
