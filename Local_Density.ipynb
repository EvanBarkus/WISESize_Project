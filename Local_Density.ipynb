{
 "cells": [
  {
   "cell_type": "code",
   "execution_count": 6,
   "id": "ee82776e-47b5-4c29-88d1-14ee9f31ced8",
   "metadata": {
    "tags": []
   },
   "outputs": [],
   "source": [
    "import numpy as np\n",
    "from astropy.table import Table, Column, join\n",
    "from astropy.coordinates import SkyCoord\n",
    "from astropy.table import Column\n",
    "from numpy import *\n",
    "import matplotlib.pyplot as plt\n",
    "%matplotlib inline\n",
    "from astropy.wcs import WCS\n",
    "from astropy.io import fits\n",
    "from matplotlib.colors import LogNorm\n",
    "from astropy.utils.data import download_file\n",
    "import warnings\n",
    "\n",
    "catalog_path='/Users/EvanB.LAPTOP-8CHCIOMA/Downloads/'\n",
    "\n",
    "#A100-NSA Catalog\n",
    "myTab=Table.read(catalog_path+'a100-nsa-for-adap.fits')"
   ]
  },
  {
   "cell_type": "code",
   "execution_count": 22,
   "id": "daddcd68-ab05-41cc-838f-aa48bcd9616a",
   "metadata": {
    "tags": []
   },
   "outputs": [
    {
     "name": "stdin",
     "output_type": "stream",
     "text": [
      " 1500\n"
     ]
    }
   ],
   "source": [
    "# R-band Magnitude Limit\n",
    "Mrmax = -18.2\n",
    "Mr = myTab['ABSMAG'][:,4]\n",
    "Mrflag = Mr < Mrmax\n",
    "\n",
    "# Velocity input\n",
    "vinput = int(input())\n",
    "v = myTab['Vhelio']\n",
    "vflag = (v > -1*vinput) & (v < vinput)\n",
    "\n",
    "cut = Mrflag & vflag\n",
    "\n",
    "cuttab = myTab[cut]"
   ]
  },
  {
   "cell_type": "code",
   "execution_count": 23,
   "id": "34f198f2-ad54-4b2c-a659-a5f7c7b8ab96",
   "metadata": {
    "tags": []
   },
   "outputs": [
    {
     "name": "stdout",
     "output_type": "stream",
     "text": [
      "39098\n",
      "10692\n"
     ]
    }
   ],
   "source": [
    "print(len(myTab['ABSMAG'][:,4]))\n",
    "print(len(cuttab['ABSMAG'][:,4]))"
   ]
  },
  {
   "cell_type": "markdown",
   "id": "a1fe2070-7554-455b-a7c1-1df00635a5ff",
   "metadata": {},
   "source": [
    "# Computing 5th Nearest Neighbor"
   ]
  },
  {
   "cell_type": "code",
   "execution_count": 29,
   "id": "2a08d9dc-b90f-479b-8a10-dcc36b66b67b",
   "metadata": {
    "tags": []
   },
   "outputs": [],
   "source": [
    "ra = np.array(cuttab['RA'])\n",
    "dec = np.array(cuttab['DEC'])\n",
    "fifthnn = np.zeros(len(ra))\n",
    "\n",
    "#for i in Tab:\n",
    "    #d1 = ra[i]-ra[i+4]\n",
    "    #d2 = dec[i]-dec[i+5]\n",
    "    #if abs(ra) <= 5 & abs(dec) <= 5:\n",
    "        \n"
   ]
  }
 ],
 "metadata": {
  "kernelspec": {
   "display_name": "Python 3 (ipykernel)",
   "language": "python",
   "name": "python3"
  },
  "language_info": {
   "codemirror_mode": {
    "name": "ipython",
    "version": 3
   },
   "file_extension": ".py",
   "mimetype": "text/x-python",
   "name": "python",
   "nbconvert_exporter": "python",
   "pygments_lexer": "ipython3",
   "version": "3.11.4"
  }
 },
 "nbformat": 4,
 "nbformat_minor": 5
}
