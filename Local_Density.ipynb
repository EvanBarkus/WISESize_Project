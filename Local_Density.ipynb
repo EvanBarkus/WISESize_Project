{
 "cells": [
  {
   "cell_type": "code",
   "execution_count": 1,
   "id": "ee82776e-47b5-4c29-88d1-14ee9f31ced8",
   "metadata": {
    "tags": []
   },
   "outputs": [],
   "source": [
    "import numpy as np\n",
    "from astropy.table import Table, Column, join\n",
    "from astropy.coordinates import SkyCoord\n",
    "from astropy.table import Column\n",
    "from numpy import *\n",
    "import matplotlib.pyplot as plt\n",
    "%matplotlib inline\n",
    "from astropy.wcs import WCS\n",
    "from astropy.io import fits\n",
    "from matplotlib.colors import LogNorm\n",
    "from astropy.utils.data import download_file\n",
    "import warnings\n",
    "\n",
    "catalog_path='/Users/EvanB.LAPTOP-8CHCIOMA/Downloads/'\n",
    "\n",
    "#A100-NSA Catalog\n",
    "myTab=Table.read(catalog_path+'a100-nsa-for-adap.fits')"
   ]
  },
  {
   "cell_type": "code",
   "execution_count": 2,
   "id": "daddcd68-ab05-41cc-838f-aa48bcd9616a",
   "metadata": {
    "tags": []
   },
   "outputs": [
    {
     "name": "stdin",
     "output_type": "stream",
     "text": [
      " 1500\n"
     ]
    }
   ],
   "source": [
    "# R-band Magnitude Limit\n",
    "Mrmax = -18.2\n",
    "Mr = myTab['ABSMAG'][:,4]\n",
    "Mrflag = Mr < Mrmax\n",
    "\n",
    "# Velocity input\n",
    "vinput = int(input())\n",
    "v = myTab['Vhelio']\n",
    "vflag = (v > -1*vinput) & (v < vinput)\n",
    "\n",
    "cut = Mrflag & vflag\n",
    "\n",
    "cuttab = myTab[cut]"
   ]
  },
  {
   "cell_type": "code",
   "execution_count": 3,
   "id": "34f198f2-ad54-4b2c-a659-a5f7c7b8ab96",
   "metadata": {
    "tags": []
   },
   "outputs": [
    {
     "name": "stdout",
     "output_type": "stream",
     "text": [
      "39098\n",
      "10692\n"
     ]
    }
   ],
   "source": [
    "print(len(myTab['ABSMAG'][:,4]))\n",
    "print(len(cuttab['ABSMAG'][:,4]))"
   ]
  },
  {
   "cell_type": "code",
   "execution_count": 7,
   "id": "0d76eba7-adc8-44f8-a95d-164399d280b6",
   "metadata": {
    "tags": []
   },
   "outputs": [],
   "source": [
    "#cuttab.info"
   ]
  },
  {
   "cell_type": "markdown",
   "id": "a1fe2070-7554-455b-a7c1-1df00635a5ff",
   "metadata": {},
   "source": [
    "# Computing 5th Nearest Neighbor"
   ]
  },
  {
   "cell_type": "code",
   "execution_count": 35,
   "id": "2a08d9dc-b90f-479b-8a10-dcc36b66b67b",
   "metadata": {
    "tags": []
   },
   "outputs": [],
   "source": [
    "ra = np.array(cuttab['RA'])\n",
    "dec = np.array(cuttab['DEC'])\n",
    "fifthnn = np.zeros(len(ra))\n",
    "\n",
    "coords = []\n",
    "for i in range(len(dec)):\n",
    "    c.append((ra[i],dec[i]))\n",
    "\n",
    "#for i in cuttab:\n",
    "    #d1 = ra[i]-ra[i+5]\n",
    "    #d2 = dec[i]-dec[i+5]\n",
    "    #if abs(ra) <= 5 & abs(dec) <= 5:\n",
    "        #fifthnn[i] = i+5\n",
    "\n"
   ]
  },
  {
   "cell_type": "code",
   "execution_count": 8,
   "id": "b5d4bf02-091c-4246-8efb-d3324bc64cfb",
   "metadata": {
    "tags": []
   },
   "outputs": [],
   "source": [
    "def distance(pt_1, pt_2):\n",
    "    pt_1 = np.array((pt_1[0], pt_1[1]))\n",
    "    pt_2 = np.array((pt_2[0], pt_2[1]))\n",
    "    return np.linalg.norm(pt_1-pt_2)\n",
    "\n",
    "def closest_node(node, nodes):\n",
    "    nodes = np.asarray(nodes)\n",
    "    dist_2 = np.sum((nodes - node)**2, axis=1)\n",
    "    return np.argmin(dist_2)"
   ]
  },
  {
   "cell_type": "code",
   "execution_count": 12,
   "id": "a1a6b50f-0595-461b-9494-aa098507fa78",
   "metadata": {
    "tags": []
   },
   "outputs": [
    {
     "name": "stdout",
     "output_type": "stream",
     "text": [
      "the closest point is [20 63], at a distance of 176.13914953808538\n"
     ]
    }
   ],
   "source": [
    "A = [(26, 63), (25, 63), (24, 63), (23, 63), (22, 63), (21, 63), (20, 63), (22, 62), (27, 63)]\n",
    "A = np.array(A)\n",
    "leftbottom = np.array((0,238))\n",
    "distances = np.linalg.norm(A-leftbottom, axis=1)\n",
    "min_index = np.argmin(distances)\n",
    "print(f\"the closest point is {A[min_index]}, at a distance of {distances[min_index]}\")"
   ]
  },
  {
   "cell_type": "code",
   "execution_count": 40,
   "id": "c800bd0a-94bb-4a24-9014-2e0669ec5679",
   "metadata": {
    "tags": []
   },
   "outputs": [
    {
     "data": {
      "text/plain": [
       "25.072361206747455"
      ]
     },
     "execution_count": 40,
     "metadata": {},
     "output_type": "execute_result"
    }
   ],
   "source": [
    "import math\n",
    "c1 = [ra[0],dec[0]]\n",
    "c2 = [ra[4],dec[4]]\n",
    "\n",
    "math.dist(c1,c2)\n"
   ]
  }
 ],
 "metadata": {
  "kernelspec": {
   "display_name": "Python 3 (ipykernel)",
   "language": "python",
   "name": "python3"
  },
  "language_info": {
   "codemirror_mode": {
    "name": "ipython",
    "version": 3
   },
   "file_extension": ".py",
   "mimetype": "text/x-python",
   "name": "python",
   "nbconvert_exporter": "python",
   "pygments_lexer": "ipython3",
   "version": "3.11.4"
  }
 },
 "nbformat": 4,
 "nbformat_minor": 5
}
