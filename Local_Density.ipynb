{
 "cells": [
  {
   "cell_type": "code",
   "execution_count": 1,
   "id": "ee82776e-47b5-4c29-88d1-14ee9f31ced8",
   "metadata": {
    "tags": []
   },
   "outputs": [],
   "source": [
    "import numpy as np\n",
    "from astropy.table import Table, Column, join\n",
    "from astropy.coordinates import SkyCoord\n",
    "from astropy.table import Column\n",
    "from numpy import *\n",
    "import matplotlib.pyplot as plt\n",
    "%matplotlib inline\n",
    "from astropy.wcs import WCS\n",
    "from astropy.io import fits\n",
    "from matplotlib.colors import LogNorm\n",
    "from astropy.utils.data import download_file\n",
    "import warnings\n",
    "\n",
    "catalog_path='/Users/EvanB.LAPTOP-8CHCIOMA/Downloads/'\n",
    "\n",
    "#A100-NSA Catalog\n",
    "myTab=Table.read(catalog_path+'a100-nsa-for-adap.fits')"
   ]
  },
  {
   "cell_type": "code",
   "execution_count": 2,
   "id": "8c09d66e-492a-426c-ba8d-49397efa8713",
   "metadata": {
    "tags": []
   },
   "outputs": [
    {
     "name": "stdin",
     "output_type": "stream",
     "text": [
      " 1500\n"
     ]
    }
   ],
   "source": [
    "# R-band Magnitude Limit\n",
    "Mrmax = -18.2\n",
    "Mr = myTab['ABSMAG'][:,4]\n",
    "Mrflag = Mr < Mrmax\n",
    "\n",
    "# Velocity input\n",
    "vinput = int(input()) # Asks for a velocity to create a new cut based off of\n",
    "v = myTab['Vhelio'] # Recessional velocity from catalog\n",
    "vflag = (v > -1*vinput) & (v < vinput) # Applies a cut (+/- the input velocity) to the data set \n",
    "\n",
    "cut = Mrflag & vflag # Combines both cuts\n",
    "\n",
    "cuttab = myTab[cut]"
   ]
  },
  {
   "cell_type": "markdown",
   "id": "a1fe2070-7554-455b-a7c1-1df00635a5ff",
   "metadata": {},
   "source": [
    "# Computing 5th Nearest Neighbor"
   ]
  },
  {
   "cell_type": "code",
   "execution_count": 3,
   "id": "2a08d9dc-b90f-479b-8a10-dcc36b66b67b",
   "metadata": {
    "tags": []
   },
   "outputs": [
    {
     "name": "stdout",
     "output_type": "stream",
     "text": [
      "Closest Points = [(0.8125990364294372, 16.14570390458945), (0.6580024759606975, 16.643731319970442), (0.8674337580835826, 16.73615246179746), (1.591291431871461, 17.437278420621006), (1.581731326757165, 14.327454416164155)]\n",
      "Distances (Degrees) = [0.0, 0.5214704238783213, 0.592989329927536, 1.508153366598167, 1.974232935138005, 2.5430251209849937]\n"
     ]
    }
   ],
   "source": [
    "#Computes 5 nearest neighbors of one selected galaxy\n",
    "\n",
    "# Defining ra and dec, making empty array for fifth nearest neighbors for later use\n",
    "ra = np.array(cuttab['RA'])\n",
    "dec = np.array(cuttab['DEC'])\n",
    "fifthnn = np.zeros(len(ra))\n",
    "\n",
    "# Sets up array of tuples of ra and dec points for each galaxy\n",
    "points = []\n",
    "for i in range(len(dec)):\n",
    "    points.append((ra[i],dec[i])) # Creates an array of tuples that each have an ra and dec component\n",
    "\n",
    "def distance(ra1, dec1, ra2, dec2):\n",
    "    return ((ra1 - ra2) ** 2 + (dec1 - dec2) ** 2) ** ( 1 / 2) # Calculates distance between two points\n",
    "\n",
    "def kClosest(points, target, K):\n",
    "    pts = []\n",
    "    n = len(points)\n",
    "    d = []\n",
    " \n",
    "    for i in range(n):\n",
    "        d.append({\n",
    "            \"first\": distance(points[i][0], points[i][1], target[0], target[1]), \n",
    "            \"second\": i\n",
    "        })\n",
    "     \n",
    "    d = sorted(d, key=lambda l:l[\"first\"])\n",
    " \n",
    "    for i in range(K):\n",
    "        pt = []\n",
    "        pt.append(points[d[i][\"second\"]][0])\n",
    "        pt.append(points[d[i][\"second\"]][1])\n",
    "        pts.append(pt)\n",
    " \n",
    "    return pts\n",
    "\n",
    "#Initial parameters\n",
    "target = points[0]\n",
    "K = 6\n",
    "\n",
    "#Computes 5 nearest neighbors of one selected galaxy\n",
    "dist = []\n",
    "fnn = []\n",
    "\n",
    "for pt in kClosest(points, target, K):\n",
    "    dist.append(distance(pt[0], pt[1], target[0], target[1]))\n",
    "    fnn.append((pt[0],pt[1]))\n",
    "    #print(f\"{pt[0]} {pt[1]}\")\n",
    "    \n",
    "print(f\"Closest Points = {fnn[0:5]}\")\n",
    "\n",
    "print(f\"Distances (Degrees) = {dist}\")"
   ]
  },
  {
   "cell_type": "code",
   "execution_count": 4,
   "id": "47bd59f9-04e8-495f-bf70-0a9603e4742e",
   "metadata": {
    "tags": []
   },
   "outputs": [],
   "source": [
    "#print(points)"
   ]
  },
  {
   "cell_type": "code",
   "execution_count": 28,
   "id": "7437d0e5-617f-40ba-8dd6-5fc53ba4ac6e",
   "metadata": {},
   "outputs": [
    {
     "name": "stdout",
     "output_type": "stream",
     "text": [
      "[0.0, 0.5214704238783213, 0.592989329927536, 1.508153366598167, 1.974232935138005, 2.5430251209849937, 0.0, 0.9008014396663964, 1.1802036211171796, 2.528267123887345, 2.634988284098588, 2.644761089426649]\n"
     ]
    }
   ],
   "source": [
    "def Fifth_Nearest(points, target):\n",
    "    n = len(points)\n",
    "    d = []\n",
    "    for i in range(n):\n",
    "        target = points[i]\n",
    "        for i in range(6):\n",
    "            d.append(distance(points[i][0], points[i][1], target[0], target[1]))\n",
    "        #d = distance(points[i][0], points[i][1], target[0], target[1])\n",
    "        #dist[i] = d\n",
    "    dist = sorted(d)\n",
    "    return dist\n",
    "        \n",
    "print(dist[0:12])"
   ]
  },
  {
   "cell_type": "code",
   "execution_count": 21,
   "id": "c2fbde86-78e5-49ec-a1d1-914d4757334c",
   "metadata": {
    "tags": []
   },
   "outputs": [],
   "source": [
    "#Computes 5 nearest neighbors of each galaxy\n",
    "\n",
    "# Defining ra and dec, making empty array for fifth nearest neighbors for later use\n",
    "#ra = np.array(cuttab['RA'])\n",
    "#dec = np.array(cuttab['DEC'])\n",
    "\n",
    "# Sets up array of tuples of ra and dec points for each galaxy\n",
    "#points = []\n",
    "#for i in range(len(dec)):\n",
    "#    points.append((ra[i],dec[i]))\n",
    "\n",
    "# Calculates distance between two points\n",
    "def distance2(ra1, dec1, ra2, dec2):\n",
    "    return ((ra1 - ra2)**2 + (dec1 - dec2)**2)**(1/2)\n",
    "\n",
    "# Finds the closest points to a target point\n",
    "def kClosest2(points, target, K):\n",
    "    pts = []\n",
    "    n = len(points)\n",
    "    d = []\n",
    " \n",
    "    for i in range(n):\n",
    "        d.append({\n",
    "            \"first\": distance2(points[i][0], points[i][1], target[0], target[1]), \n",
    "            \"second\": i\n",
    "        })\n",
    "     \n",
    "    d = sorted(d, key=lambda l:l[\"first\"]) # Sorts by distance\n",
    " \n",
    "    for i in range(K):\n",
    "        pt = []\n",
    "        pt.append(points[d[i][\"second\"]][0]) #append(points[d[i+5][\"second\"]][0])\n",
    "        pt.append(points[d[i][\"second\"]][1]) #append(points[d[i+5][\"second\"]][1])\n",
    "        pts.append(pt)\n",
    "\n",
    "    return pts\n",
    "\n",
    "#Initial parameters\n",
    "K = 6\n",
    "#z0 = np.array(cuttab['ZDIST'])\n",
    "\n",
    "#Computes 5 nearest neighbors of one selected galaxy\n",
    "dist = []\n",
    "fnn = []\n",
    "fifthnn = np.zeros(len(points))\n",
    "#z = []\n",
    "for i in range(len(points)):\n",
    "    target = points[i]\n",
    "    #for j in range(K):\n",
    "        #c = kClosest2(points, target, K)\n",
    "        #fifthnn[i] = c\n",
    "    #redshift = z0[i]\n",
    "    for pt in kClosest2(points, target, K):\n",
    "        dist.append(distance2(pt[0], pt[1], target[0], target[1]))\n",
    "        fnn.append((pt[0],pt[1]))\n",
    "        #f = fnn\n",
    "        #fifthnn[i] = \n",
    "        #fifthnn.append(fnn)\n",
    "        #z.append(redshift)\n",
    "        "
   ]
  },
  {
   "cell_type": "code",
   "execution_count": 29,
   "id": "e6e14668-90e6-4af9-ac1a-30f56fd522f1",
   "metadata": {
    "tags": []
   },
   "outputs": [
    {
     "data": {
      "text/plain": [
       "[2.5430251209849937, 2.644761089426649]"
      ]
     },
     "execution_count": 29,
     "metadata": {},
     "output_type": "execute_result"
    }
   ],
   "source": [
    "# Distances of Fifth Nearest Neighbors of each Galaxy (degrees)\n",
    "distNN = dist[5::6]\n",
    "distNN[0:2]"
   ]
  },
  {
   "cell_type": "markdown",
   "id": "21c1448a-46be-48cd-a75b-ee8b4eb4a94b",
   "metadata": {},
   "source": [
    "### Ignore (Experiments)"
   ]
  },
  {
   "cell_type": "code",
   "execution_count": null,
   "id": "89f9cee1-856c-4af2-a9f0-a90805860774",
   "metadata": {
    "tags": []
   },
   "outputs": [],
   "source": [
    "#subdist = [dist[n:n+6] for n in range(0, len(dist), 6)]\n",
    "#print(subdist[0:2])"
   ]
  },
  {
   "cell_type": "code",
   "execution_count": null,
   "id": "45f24e10-d2dc-4b74-ace3-9bf83607213f",
   "metadata": {
    "tags": []
   },
   "outputs": [],
   "source": [
    "#print(fnn[0:3])"
   ]
  },
  {
   "cell_type": "code",
   "execution_count": null,
   "id": "7b567ccf-a734-4345-8dbc-a7fbd7abccba",
   "metadata": {
    "tags": []
   },
   "outputs": [],
   "source": [
    "#print(points[0:3])"
   ]
  },
  {
   "cell_type": "code",
   "execution_count": null,
   "id": "1569952c-d12c-4d13-918e-295ac559c2a3",
   "metadata": {},
   "outputs": [],
   "source": [
    "#subfnn = [fnn[n:n+6] for n in range(0, len(fnn), 6)]\n",
    "#print(subfnn[0:3])"
   ]
  },
  {
   "cell_type": "code",
   "execution_count": null,
   "id": "9a6d7b75-6c2e-43c5-86fd-644ab635b56f",
   "metadata": {
    "tags": []
   },
   "outputs": [],
   "source": [
    "#print(len(points))\n",
    "#print(len(dist))"
   ]
  },
  {
   "cell_type": "code",
   "execution_count": null,
   "id": "e1d70366-149a-4c45-ae46-f5361b2e2017",
   "metadata": {
    "tags": []
   },
   "outputs": [],
   "source": [
    "# Converting disance between galaxies to kpc\n",
    "\n",
    "# Finding distance\n",
    "#H0 = 2.3*10**(-18) #/s\n",
    "#c = 3*10**8 #m/s\n",
    "\n",
    "#v = subz*c \n",
    "#d = v/H0 #m\n",
    "\n",
    "# Small angle approximation\n",
    "#kpc = (d*subdist)*(3*10**(-19)) #kpc"
   ]
  },
  {
   "cell_type": "code",
   "execution_count": null,
   "id": "b686b74a-1d65-4485-9845-045b3d500e1d",
   "metadata": {
    "tags": []
   },
   "outputs": [],
   "source": [
    "ra = cuttab['RA']\n",
    "dec = cuttab['DEC']\n",
    "ccode = cuttab['ZDIST']\n",
    "\n",
    "#Print number of points\n",
    "print(len(ra))\n",
    "\n",
    "#Plot RA vs DEC and color it by recessional velocity\n",
    "plt.figure(figsize=(12,5))\n",
    "plt.scatter(ra,dec,c=ccode,cmap='viridis',alpha=0.8,s=2.5)\n",
    "plt.xlim(reversed(plt.xlim()))\n",
    "plt.title('Sample Galaxies')\n",
    "plt.xlabel('RA (degrees)')\n",
    "plt.ylabel('DEC (degrees)')\n",
    "plt.xlim(270,100)\n",
    "plt.ylim(0,70)\n",
    "cbar = plt.colorbar()\n",
    "cbar.set_label('Redshift',rotation=270,labelpad=20)\n",
    "plt.clim(0.002,0.026)"
   ]
  }
 ],
 "metadata": {
  "kernelspec": {
   "display_name": "Python 3 (ipykernel)",
   "language": "python",
   "name": "python3"
  },
  "language_info": {
   "codemirror_mode": {
    "name": "ipython",
    "version": 3
   },
   "file_extension": ".py",
   "mimetype": "text/x-python",
   "name": "python",
   "nbconvert_exporter": "python",
   "pygments_lexer": "ipython3",
   "version": "3.11.4"
  }
 },
 "nbformat": 4,
 "nbformat_minor": 5
}
