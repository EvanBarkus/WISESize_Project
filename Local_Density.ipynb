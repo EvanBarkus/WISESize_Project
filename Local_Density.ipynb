{
 "cells": [
  {
   "cell_type": "code",
   "execution_count": 1,
   "id": "ee82776e-47b5-4c29-88d1-14ee9f31ced8",
   "metadata": {
    "tags": []
   },
   "outputs": [],
   "source": [
    "import numpy as np\n",
    "from astropy.table import Table, Column, join\n",
    "from astropy.coordinates import SkyCoord\n",
    "from astropy.table import Column\n",
    "from numpy import *\n",
    "import matplotlib.pyplot as plt\n",
    "%matplotlib inline\n",
    "from astropy.wcs import WCS\n",
    "from astropy.io import fits\n",
    "from matplotlib.colors import LogNorm\n",
    "from astropy.utils.data import download_file\n",
    "import warnings\n",
    "\n",
    "catalog_path='/Users/EvanB.LAPTOP-8CHCIOMA/Downloads/'\n",
    "\n",
    "#A100-NSA Catalog\n",
    "myTab=Table.read(catalog_path+'a100-nsa-for-adap.fits')"
   ]
  },
  {
   "cell_type": "code",
   "execution_count": 2,
   "id": "daddcd68-ab05-41cc-838f-aa48bcd9616a",
   "metadata": {
    "tags": []
   },
   "outputs": [
    {
     "name": "stdin",
     "output_type": "stream",
     "text": [
      " 1500\n"
     ]
    }
   ],
   "source": [
    "# R-band Magnitude Limit\n",
    "Mrmax = -18.2\n",
    "Mr = myTab['ABSMAG'][:,4]\n",
    "Mrflag = Mr < Mrmax\n",
    "\n",
    "# Velocity input\n",
    "vinput = int(input())\n",
    "v = myTab['Vhelio']\n",
    "vflag = (v > -1*vinput) & (v < vinput)\n",
    "\n",
    "cut = Mrflag & vflag\n",
    "\n",
    "cuttab = myTab[cut]"
   ]
  },
  {
   "cell_type": "code",
   "execution_count": 3,
   "id": "34f198f2-ad54-4b2c-a659-a5f7c7b8ab96",
   "metadata": {
    "tags": []
   },
   "outputs": [
    {
     "name": "stdout",
     "output_type": "stream",
     "text": [
      "39098\n",
      "10692\n"
     ]
    }
   ],
   "source": [
    "print(len(myTab['ABSMAG'][:,4]))\n",
    "print(len(cuttab['ABSMAG'][:,4]))"
   ]
  },
  {
   "cell_type": "code",
   "execution_count": 4,
   "id": "0d76eba7-adc8-44f8-a95d-164399d280b6",
   "metadata": {
    "tags": []
   },
   "outputs": [],
   "source": [
    "#cuttab.info"
   ]
  },
  {
   "cell_type": "markdown",
   "id": "a1fe2070-7554-455b-a7c1-1df00635a5ff",
   "metadata": {},
   "source": [
    "# Computing 5th Nearest Neighbor"
   ]
  },
  {
   "cell_type": "code",
   "execution_count": 5,
   "id": "2a08d9dc-b90f-479b-8a10-dcc36b66b67b",
   "metadata": {
    "tags": []
   },
   "outputs": [
    {
     "name": "stdout",
     "output_type": "stream",
     "text": [
      "Closest Points = [(0.6580024759606975, 16.643731319970442), (0.8674337580835826, 16.73615246179746), (1.591291431871461, 17.437278420621006), (1.581731326757165, 14.327454416164155)]\n",
      "Distances (Degrees) = [0.0, 0.5214704238783213, 0.592989329927536, 1.508153366598167, 1.974232935138005, 2.5430251209849937]\n"
     ]
    }
   ],
   "source": [
    "#Computes 5 nearest neighbors of one selected galaxy\n",
    "\n",
    "# Defining ra and dec, making empty array for fifth nearest neighbors for later use\n",
    "ra = np.array(cuttab['RA'])\n",
    "dec = np.array(cuttab['DEC'])\n",
    "fifthnn = np.zeros(len(ra))\n",
    "\n",
    "# Sets up array of tuples of ra and dec points for each galaxy\n",
    "points = []\n",
    "for i in range(len(dec)):\n",
    "    points.append((ra[i],dec[i]))\n",
    "\n",
    "def distance(ra1, dec1, ra2, dec2):\n",
    "    return ((ra1 - ra2) ** 2 + (dec1 - dec2) ** 2) ** ( 1 / 2)\n",
    "\n",
    "def kClosest(points, target, K):\n",
    "    pts = []\n",
    "    n = len(points)\n",
    "    d = []\n",
    " \n",
    "    for i in range(n):\n",
    "        d.append({\n",
    "            \"first\": distance(points[i][0], points[i][1], target[0], target[1]), \n",
    "            \"second\": i\n",
    "        })\n",
    "     \n",
    "    d = sorted(d, key=lambda l:l[\"first\"])\n",
    " \n",
    "    for i in range(K):\n",
    "        pt = []\n",
    "        pt.append(points[d[i][\"second\"]][0])\n",
    "        pt.append(points[d[i][\"second\"]][1])\n",
    "        pts.append(pt)\n",
    " \n",
    "    return pts\n",
    "\n",
    "#Initial parameters\n",
    "target = points[0]\n",
    "K = 6\n",
    "\n",
    "#Computes 5 nearest neighbors of one selected galaxy\n",
    "dist = []\n",
    "fnn = []\n",
    "\n",
    "for pt in kClosest(points, target, K):\n",
    "    dist.append(distance(pt[0], pt[1], target[0], target[1]))\n",
    "    fnn.append((pt[0],pt[1]))\n",
    "    #print(f\"{pt[0]} {pt[1]}\")\n",
    "    \n",
    "print(f\"Closest Points = {fnn[1:5]}\")\n",
    "\n",
    "print(f\"Distances (Degrees) = {dist}\")"
   ]
  },
  {
   "cell_type": "code",
   "execution_count": 22,
   "id": "47bd59f9-04e8-495f-bf70-0a9603e4742e",
   "metadata": {
    "tags": []
   },
   "outputs": [],
   "source": [
    "#print(points)"
   ]
  },
  {
   "cell_type": "code",
   "execution_count": 47,
   "id": "c2fbde86-78e5-49ec-a1d1-914d4757334c",
   "metadata": {
    "tags": []
   },
   "outputs": [],
   "source": [
    "#Computes 5 nearest neighbors of each galaxy\n",
    "\n",
    "# Defining ra and dec, making empty array for fifth nearest neighbors for later use\n",
    "ra = np.array(cuttab['RA'])\n",
    "dec = np.array(cuttab['DEC'])\n",
    "fifthnn = np.zeros(len(ra))\n",
    "\n",
    "# Sets up array of tuples of ra and dec points for each galaxy\n",
    "points = []\n",
    "for i in range(len(dec)):\n",
    "    points.append((ra[i],dec[i]))\n",
    "\n",
    "def distance(ra1, dec1, ra2, dec2):\n",
    "    return ((ra1 - ra2)**2 + (dec1 - dec2)**2)**(1/2)\n",
    "\n",
    "def kClosest(points, target, K):\n",
    "    pts = []\n",
    "    n = len(points)\n",
    "    d = []\n",
    " \n",
    "    for i in range(n):\n",
    "        d.append({\n",
    "            \"first\": distance(points[i][0], points[i][1], target[0], target[1]), \n",
    "            \"second\": i\n",
    "        })\n",
    "     \n",
    "    d = sorted(d, key=lambda l:l[\"first\"])\n",
    " \n",
    "    for i in range(K):\n",
    "        pt = []\n",
    "        pt.append(points[d[i][\"second\"]][0])\n",
    "        pt.append(points[d[i][\"second\"]][1])\n",
    "        pts.append(pt)\n",
    " \n",
    "    return pts\n",
    "\n",
    "#Initial parameters\n",
    "K = 6\n",
    "\n",
    "#Computes 5 nearest neighbors of one selected galaxy\n",
    "dist = []\n",
    "fnn = []\n",
    "for i in range(len(points)):\n",
    "    target = points[i]\n",
    "    for pt in kClosest(points, target, K):\n",
    "        dist.append(distance(pt[0], pt[1], target[0], target[1]))\n",
    "        fnn.append((pt[0],pt[1]))\n",
    "        #print(f\"{pt[0]} {pt[1]}\")\n",
    "    \n",
    "#print(f\"Closest Points = {fnn[1:5]}\")\n",
    "\n",
    "#print(f\"Distances (Degrees) = {dist}\")"
   ]
  },
  {
   "cell_type": "code",
   "execution_count": 48,
   "id": "89f9cee1-856c-4af2-a9f0-a90805860774",
   "metadata": {
    "tags": []
   },
   "outputs": [
    {
     "name": "stdout",
     "output_type": "stream",
     "text": [
      "[[0.0, 0.5214704238783213, 0.592989329927536, 1.508153366598167, 1.974232935138005, 2.5430251209849937], [0.0, 0.9008014396663964, 1.1802036211171796, 2.528267123887345, 2.634988284098588, 2.644761089426649]]\n"
     ]
    }
   ],
   "source": [
    "sublist = [dist[n:n+6] for n in range(0, len(dist), 6)]\n",
    "print(sublist[0:2])"
   ]
  },
  {
   "cell_type": "code",
   "execution_count": 39,
   "id": "6189e6e4-eb9e-4af3-b0c3-587f8f944492",
   "metadata": {
    "tags": []
   },
   "outputs": [
    {
     "name": "stdout",
     "output_type": "stream",
     "text": [
      "[0.0, 0.5214704238783213, 0.592989329927536, 1.508153366598167, 1.974232935138005, 2.5430251209849937, 0.0, 0.9008014396663964, 1.1802036211171796, 2.528267123887345, 2.634988284098588, 2.644761089426649, 0.0, 0.7318585292694487, 0.7581749907905204, 0.9240213314685154, 1.0851890088997718, 1.1010926719538061, 0.0, 2.0345159882890553, 2.0767847899867653, 2.55448298501058, 2.662269064998005, 2.8926550654735537]\n"
     ]
    }
   ],
   "source": [
    "print(dist[0:24])"
   ]
  },
  {
   "cell_type": "code",
   "execution_count": 29,
   "id": "9a6d7b75-6c2e-43c5-86fd-644ab635b56f",
   "metadata": {
    "tags": []
   },
   "outputs": [
    {
     "name": "stdout",
     "output_type": "stream",
     "text": [
      "10692\n",
      "64152\n"
     ]
    }
   ],
   "source": [
    "print(len(points))\n",
    "print(len(dist))"
   ]
  }
 ],
 "metadata": {
  "kernelspec": {
   "display_name": "Python 3 (ipykernel)",
   "language": "python",
   "name": "python3"
  },
  "language_info": {
   "codemirror_mode": {
    "name": "ipython",
    "version": 3
   },
   "file_extension": ".py",
   "mimetype": "text/x-python",
   "name": "python",
   "nbconvert_exporter": "python",
   "pygments_lexer": "ipython3",
   "version": "3.11.4"
  }
 },
 "nbformat": 4,
 "nbformat_minor": 5
}
