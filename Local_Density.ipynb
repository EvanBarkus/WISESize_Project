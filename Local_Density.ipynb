{
 "cells": [
  {
   "cell_type": "code",
   "execution_count": 1,
   "id": "ee82776e-47b5-4c29-88d1-14ee9f31ced8",
   "metadata": {
    "tags": []
   },
   "outputs": [],
   "source": [
    "import numpy as np\n",
    "from astropy.table import Table, Column, join\n",
    "from astropy.coordinates import SkyCoord\n",
    "from astropy.table import Column\n",
    "from numpy import *\n",
    "import matplotlib.pyplot as plt\n",
    "%matplotlib inline\n",
    "from astropy.wcs import WCS\n",
    "from astropy.io import fits\n",
    "from matplotlib.colors import LogNorm\n",
    "from astropy.utils.data import download_file\n",
    "import warnings\n",
    "\n",
    "catalog_path='/Users/EvanB.LAPTOP-8CHCIOMA/Downloads/'\n",
    "\n",
    "#A100-NSA Catalog\n",
    "myTab=Table.read(catalog_path+'a100-nsa-for-adap.fits')"
   ]
  },
  {
   "cell_type": "code",
   "execution_count": 2,
   "id": "daddcd68-ab05-41cc-838f-aa48bcd9616a",
   "metadata": {
    "tags": []
   },
   "outputs": [
    {
     "name": "stdin",
     "output_type": "stream",
     "text": [
      " 1500\n"
     ]
    }
   ],
   "source": [
    "# R-band Magnitude Limit\n",
    "Mrmax = -18.2\n",
    "Mr = myTab['ABSMAG'][:,4]\n",
    "Mrflag = Mr < Mrmax\n",
    "\n",
    "# Velocity input\n",
    "vinput = int(input())\n",
    "v = myTab['Vhelio']\n",
    "vflag = (v > -1*vinput) & (v < vinput)\n",
    "\n",
    "cut = Mrflag & vflag\n",
    "\n",
    "cuttab = myTab[cut]"
   ]
  },
  {
   "cell_type": "code",
   "execution_count": 3,
   "id": "34f198f2-ad54-4b2c-a659-a5f7c7b8ab96",
   "metadata": {
    "tags": []
   },
   "outputs": [
    {
     "name": "stdout",
     "output_type": "stream",
     "text": [
      "39098\n",
      "10692\n"
     ]
    }
   ],
   "source": [
    "print(len(myTab['ABSMAG'][:,4]))\n",
    "print(len(cuttab['ABSMAG'][:,4]))"
   ]
  },
  {
   "cell_type": "code",
   "execution_count": 4,
   "id": "0d76eba7-adc8-44f8-a95d-164399d280b6",
   "metadata": {
    "tags": []
   },
   "outputs": [],
   "source": [
    "#cuttab.info"
   ]
  },
  {
   "cell_type": "markdown",
   "id": "a1fe2070-7554-455b-a7c1-1df00635a5ff",
   "metadata": {},
   "source": [
    "# Computing 5th Nearest Neighbor"
   ]
  },
  {
   "cell_type": "code",
   "execution_count": 73,
   "id": "2a08d9dc-b90f-479b-8a10-dcc36b66b67b",
   "metadata": {
    "tags": []
   },
   "outputs": [
    {
     "name": "stdout",
     "output_type": "stream",
     "text": [
      "0.8125990364294372 16.14570390458945\n",
      "0.6580024759606975 16.643731319970442\n",
      "0.8674337580835826 16.73615246179746\n",
      "1.591291431871461 17.437278420621006\n",
      "1.581731326757165 14.327454416164155\n",
      "(0.8125990364294372, 16.14570390458945)\n"
     ]
    }
   ],
   "source": [
    "#Computes 5 nearest neighbors of one selected galaxy\n",
    "\n",
    "# Defining ra and dec, making empty array for fifth nearest neighbors for later use\n",
    "ra = np.array(cuttab['RA'])\n",
    "dec = np.array(cuttab['DEC'])\n",
    "fifthnn = np.zeros(len(ra))\n",
    "\n",
    "# Sets up array of tuples of ra and dec points for each galaxy\n",
    "points = []\n",
    "for i in range(len(dec)):\n",
    "    points.append((ra[i],dec[i]))\n",
    "\n",
    "def distance(ra1, dec1, ra2, dec2):\n",
    "    return ((ra1 - ra2) ** 2 + (dec1 - dec2) ** 2) ** ( 1 / 2)\n",
    "\n",
    "def kClosest(pointss, target, K):\n",
    "    pts = []\n",
    "    n = len(points)\n",
    "    d = []\n",
    " \n",
    "    for i in range(n):\n",
    "        d.append({\n",
    "            \"first\": distance(points[i][0], points[i][1], target[0], target[1]), \n",
    "            \"second\": i\n",
    "        })\n",
    "     \n",
    "    d = sorted(d, key=lambda l:l[\"first\"])\n",
    " \n",
    "    for i in range(K):\n",
    "        pt = []\n",
    "        pt.append(points[d[i][\"second\"]][0])\n",
    "        pt.append(points[d[i][\"second\"]][1])\n",
    "        pts.append(pt)\n",
    " \n",
    "    return pts\n",
    "\n",
    "#Initial parameters\n",
    "target = points[0]\n",
    "K = 5\n",
    "\n",
    "#Computes 5 nearest neighbors of one selected galaxy\n",
    "for pt in kClosest(points, target, K):\n",
    "    if pt != target:\n",
    "        print(f\"{pt[0]} {pt[1]}\")\n",
    "\n",
    "print(target)"
   ]
  },
  {
   "cell_type": "code",
   "execution_count": 11,
   "id": "47bd59f9-04e8-495f-bf70-0a9603e4742e",
   "metadata": {
    "tags": []
   },
   "outputs": [],
   "source": [
    "#print(coords)"
   ]
  },
  {
   "cell_type": "code",
   "execution_count": 7,
   "id": "b5d4bf02-091c-4246-8efb-d3324bc64cfb",
   "metadata": {
    "tags": []
   },
   "outputs": [],
   "source": [
    "def distance(pt_1, pt_2):\n",
    "    pt_1 = np.array((pt_1[0], pt_1[1]))\n",
    "    pt_2 = np.array((pt_2[0], pt_2[1]))\n",
    "    return np.linalg.norm(pt_1-pt_2)\n",
    "\n",
    "def closest_node(node, nodes):\n",
    "    nodes = np.asarray(nodes)\n",
    "    dist_2 = np.sum((nodes - node)**2, axis=1)\n",
    "    return np.argmin(dist_2)"
   ]
  },
  {
   "cell_type": "code",
   "execution_count": 62,
   "id": "a1a6b50f-0595-461b-9494-aa098507fa78",
   "metadata": {
    "tags": []
   },
   "outputs": [
    {
     "name": "stdout",
     "output_type": "stream",
     "text": [
      "10.44030650891055\n",
      "[10.44030650891055, 8.366600265340756, 7.0, 6.782329983125268, 7.810249675906654, 9.695359714832659, 12.041594578792296, 8.246211251235321, 12.884098726725126]\n"
     ]
    }
   ],
   "source": [
    "# Trial run on small array\n",
    "A = [(26, 63), (25, 63), (24, 63), (23, 63), (22, 63), (21, 63), (20, 63), (22, 62), (27, 63)]\n",
    "A = np.array(A)\n",
    "\n",
    "leftbottom = np.array((0,238))\n",
    "\n",
    "c = np.linalg.norm(A-A[0],axis=None)\n",
    "\n",
    "d = []\n",
    "for i in range(len(A)):\n",
    "    distances = np.linalg.norm(A-A[i], axis=None)\n",
    "    d.append(distances)\n",
    "\n",
    "min_index = np.argmin(distances)\n",
    "print(c)\n",
    "print(d)\n",
    "\n",
    "#print(f\"the closest point is {A[min_index]}, at a distance of {distances[min_index]}\")"
   ]
  },
  {
   "cell_type": "code",
   "execution_count": 32,
   "id": "c8aab082-5171-405a-a27e-d5798f76c401",
   "metadata": {
    "tags": []
   },
   "outputs": [
    {
     "name": "stdout",
     "output_type": "stream",
     "text": [
      "the closest point is [20 63], at a distance of 176.13914953808538\n"
     ]
    }
   ],
   "source": [
    "A = [(26, 63), (25, 63), (24, 63), (23, 63), (22, 63), (21, 63), (20, 63), (22, 62), (27, 63)]\n",
    "A = np.array(A)\n",
    "\n",
    "leftbottom = np.array((0,238))\n",
    "\n",
    "distances = np.linalg.norm(A-leftbottom, axis=1)\n",
    "\n",
    "min_index = np.argmin(distances)\n",
    "\n",
    "print(f\"the closest point is {A[min_index]}, at a distance of {distances[min_index]}\")"
   ]
  },
  {
   "cell_type": "code",
   "execution_count": 45,
   "id": "c800bd0a-94bb-4a24-9014-2e0669ec5679",
   "metadata": {
    "tags": []
   },
   "outputs": [
    {
     "data": {
      "text/plain": [
       "25.072361206747455"
      ]
     },
     "execution_count": 45,
     "metadata": {},
     "output_type": "execute_result"
    }
   ],
   "source": [
    "import math\n",
    "c1 = (ra[0],dec[0])\n",
    "c2 = (ra[4],dec[4])\n",
    "\n",
    "math.dist(c1,c2)"
   ]
  },
  {
   "cell_type": "code",
   "execution_count": 49,
   "id": "d62b8ea9-88bc-4951-9a73-1e8fc3c8f239",
   "metadata": {
    "tags": []
   },
   "outputs": [
    {
     "name": "stdout",
     "output_type": "stream",
     "text": [
      "26 63\n",
      "25 63\n",
      "27 63\n",
      "24 63\n",
      "23 63\n"
     ]
    }
   ],
   "source": [
    "# Calculate the Euclidean distance\n",
    "# between two points\n",
    "def distance(x1, y1, x2, y2):\n",
    "    return ((x1 - x2) ** 2 + (y1 - y2) ** 2) ** ( 1 / 2)\n",
    " \n",
    "# Function to calculate K closest points\n",
    "def kClosest(points, target, K):\n",
    "    pts = []\n",
    "    n = len(points)\n",
    "    d = []\n",
    " \n",
    "    for i in range(n):\n",
    "        d.append({\n",
    "            \"first\": distance(points[i][0], points[i][1], target[0], target[1]), \n",
    "            \"second\": i\n",
    "        })\n",
    "     \n",
    "    d = sorted(d, key=lambda l:l[\"first\"])\n",
    " \n",
    "    for i in range(K):\n",
    "        pt = []\n",
    "        pt.append(points[d[i][\"second\"]][0])\n",
    "        pt.append(points[d[i][\"second\"]][1])\n",
    "        pts.append(pt)\n",
    " \n",
    "    return pts\n",
    " \n",
    "# Driver code\n",
    "points = [(26, 63), (25, 63), (24, 63), (23, 63), (22, 63), (21, 63), (20, 63), (22, 62), (27, 63)]\n",
    "target = [26, 60]\n",
    "K = 5\n",
    " \n",
    "for pt in kClosest(points, target, K):\n",
    "    print(f\"{pt[0]} {pt[1]}\")"
   ]
  }
 ],
 "metadata": {
  "kernelspec": {
   "display_name": "Python 3 (ipykernel)",
   "language": "python",
   "name": "python3"
  },
  "language_info": {
   "codemirror_mode": {
    "name": "ipython",
    "version": 3
   },
   "file_extension": ".py",
   "mimetype": "text/x-python",
   "name": "python",
   "nbconvert_exporter": "python",
   "pygments_lexer": "ipython3",
   "version": "3.11.4"
  }
 },
 "nbformat": 4,
 "nbformat_minor": 5
}
