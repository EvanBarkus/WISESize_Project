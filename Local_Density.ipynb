{
 "cells": [
  {
   "cell_type": "code",
   "execution_count": 1,
   "id": "ee82776e-47b5-4c29-88d1-14ee9f31ced8",
   "metadata": {
    "tags": []
   },
   "outputs": [],
   "source": [
    "import numpy as np\n",
    "from astropy.table import Table, Column, join\n",
    "from astropy.coordinates import SkyCoord\n",
    "from astropy.table import Column\n",
    "from numpy import *\n",
    "import matplotlib.pyplot as plt\n",
    "%matplotlib inline\n",
    "from astropy.wcs import WCS\n",
    "from astropy.io import fits\n",
    "from matplotlib.colors import LogNorm\n",
    "from astropy.utils.data import download_file\n",
    "import warnings\n",
    "\n",
    "catalog_path='/Users/EvanB.LAPTOP-8CHCIOMA/Downloads/'\n",
    "\n",
    "#A100-NSA Catalog\n",
    "myTab=Table.read(catalog_path+'a100-nsa-for-adap.fits')"
   ]
  },
  {
   "cell_type": "code",
   "execution_count": 24,
   "id": "f14f5aeb-7d00-44b1-8c58-99fa10667e46",
   "metadata": {
    "tags": []
   },
   "outputs": [
    {
     "data": {
      "text/plain": [
       "0.0034598312"
      ]
     },
     "execution_count": 24,
     "metadata": {},
     "output_type": "execute_result"
    }
   ],
   "source": [
    "myTab['ZDIST'][2]"
   ]
  },
  {
   "cell_type": "code",
   "execution_count": 2,
   "id": "8c09d66e-492a-426c-ba8d-49397efa8713",
   "metadata": {
    "tags": []
   },
   "outputs": [
    {
     "name": "stdin",
     "output_type": "stream",
     "text": [
      " 1500\n"
     ]
    }
   ],
   "source": [
    "# R-band Magnitude Limit\n",
    "Mrmax = -18.2\n",
    "Mr = myTab['ABSMAG'][:,4]\n",
    "Mrflag = Mr < Mrmax\n",
    "\n",
    "# Velocity input\n",
    "vinput = int(input()) # Asks for a velocity to create a new cut based off of\n",
    "v = myTab['Vhelio'] # Recessional velocity from catalog\n",
    "vflag = (v > -1*vinput) & (v < vinput) # Applies a cut (+/- the input velocity) to the data set \n",
    "\n",
    "cut = Mrflag & vflag # Combines both cuts\n",
    "\n",
    "cuttab = myTab[cut]"
   ]
  },
  {
   "cell_type": "markdown",
   "id": "a1fe2070-7554-455b-a7c1-1df00635a5ff",
   "metadata": {},
   "source": [
    "# Computing 5th Nearest Neighbor"
   ]
  },
  {
   "cell_type": "code",
   "execution_count": 3,
   "id": "7437d0e5-617f-40ba-8dd6-5fc53ba4ac6e",
   "metadata": {},
   "outputs": [],
   "source": [
    "ra = np.array(cuttab['RA']) # Right ascension of each galaxy\n",
    "dec = np.array(cuttab['DEC']) # Declination of each galaxy\n",
    "\n",
    "points = []\n",
    "for i in range(len(dec)):\n",
    "    points.append((ra[i],dec[i])) # Array of tuples of ra and dec (each galaxy now represented by a point)\n",
    "\n",
    "def distance(ra1, dec1, ra2, dec2):\n",
    "    return ((ra1 - ra2) ** 2 + (dec1 - dec2) ** 2) ** ( 1 / 2) # Distance between two points    \n",
    "\n",
    "def Five_Nearest(points, target, K):\n",
    "    pts = []\n",
    "    n = len(points)\n",
    "    d = []\n",
    " \n",
    "    for i in range(n):\n",
    "        d.append({\n",
    "            \"first\": distance(points[i][0], points[i][1], target[0], target[1]), # Finds distance between target point and another point\n",
    "            \"second\": i # Stores new point that had its distance relative to the target found\n",
    "        })\n",
    "     \n",
    "    d = sorted(d, key=lambda l:l[\"first\"]) # Sorts d from smallest to largest distance for each target point\n",
    " \n",
    "    for i in range(K): # Loops through for however many times are specified by K (I will use K=6)\n",
    "        pt = []\n",
    "        pt.append(points[d[i][\"second\"]][0]) # First element of a tuple in an array of nearest points sorted by distance\n",
    "        pt.append(points[d[i][\"second\"]][1]) # Second element of a tuple in an array of nearest points sorted by distance\n",
    "        pts.append(pt) # Stores all individual pt values as tuples\n",
    " \n",
    "    return pts # Returns the six nearest galaxies to a target galaxy (the first of which is the original target galaxy)\n"
   ]
  },
  {
   "cell_type": "code",
   "execution_count": 22,
   "id": "a516ad7f-b9f1-42dc-9cb5-2ebb50676da8",
   "metadata": {
    "tags": []
   },
   "outputs": [
    {
     "name": "stdout",
     "output_type": "stream",
     "text": [
      "[[0.8125990364294372, 16.14570390458945]]\n"
     ]
    }
   ],
   "source": [
    "K = 1\n",
    "target = points[0]\n",
    "a = Five_Nearest(points, target, K)\n",
    "print(a)"
   ]
  },
  {
   "cell_type": "code",
   "execution_count": 17,
   "id": "7fa15960-b910-4f05-813d-1198d3b7706c",
   "metadata": {
    "tags": []
   },
   "outputs": [],
   "source": [
    "# Find five nearest galaxies to each galaxy\n",
    "\n",
    "five_nn = [] # Store nearest neighbors\n",
    "K = 6 # Number of times to calaculate nearest neighbors\n",
    "\n",
    "for i in range(len(points)):\n",
    "    target = points[i] # Switches target point\n",
    "    for pt in Five_Nearest(points, target, K): # \n",
    "        five_nn.append((pt[0], pt[1]))"
   ]
  },
  {
   "cell_type": "code",
   "execution_count": 5,
   "id": "97bdb965-d468-47ca-893c-009cfa39060b",
   "metadata": {
    "tags": []
   },
   "outputs": [
    {
     "name": "stdout",
     "output_type": "stream",
     "text": [
      "(0.8125990364294372, 16.14570390458945)\n"
     ]
    }
   ],
   "source": [
    "print(five_nn[0])"
   ]
  },
  {
   "cell_type": "code",
   "execution_count": 6,
   "id": "748f80a9-38c1-42ff-bce9-ed92212fd7b8",
   "metadata": {
    "tags": []
   },
   "outputs": [
    {
     "name": "stdout",
     "output_type": "stream",
     "text": [
      "FNN: [(2.1247261268751685, 18.324074686728974), (5.8267271563667835, 13.70221435354031)]\n",
      "Targets: [(0.8125990364294372, 16.14570390458945), (4.439792860539326, 11.450287516539865)]\n"
     ]
    }
   ],
   "source": [
    "# Separating target points from fifth nearest points\n",
    "\n",
    "target_fnn = points #five_nn[0::6] # list of original target galaxies\n",
    "fifth_nearest_neighbors = five_nn[5::6] # fifth nearest point of each target\n",
    "\n",
    "print('FNN:',fifth_nearest_neighbors[0:2])\n",
    "print('Targets:',target_fnn[0:2])"
   ]
  },
  {
   "cell_type": "code",
   "execution_count": 8,
   "id": "7fd33c5f-afb2-48b0-94c2-5c33ce44bde2",
   "metadata": {
    "tags": []
   },
   "outputs": [
    {
     "name": "stdout",
     "output_type": "stream",
     "text": [
      "[2.54302512 2.64476109]\n"
     ]
    }
   ],
   "source": [
    "# Finding angular distance\n",
    "\n",
    "dist_fifthnn = []\n",
    "\n",
    "# Calculates distance between each galaxy and its fifth nearest meighbor\n",
    "\n",
    "for i in range(len(fifth_nearest_neighbors)):\n",
    "    target0 = target_fnn[i] # Changes target on each loop through\n",
    "    dist_fifthnn.append(distance(fifth_nearest_neighbors[i][0], fifth_nearest_neighbors[i][1], target0[0], target0[1])) # Produces distance array\n",
    " \n",
    "angle = np.array(dist_fifthnn)\n",
    "print(angle[0:2])"
   ]
  },
  {
   "cell_type": "code",
   "execution_count": 30,
   "id": "772693c9-9c33-47a9-9abe-6fa773972675",
   "metadata": {
    "tags": []
   },
   "outputs": [],
   "source": [
    "# Redshifts of fifth nearest neighbors\n",
    "\n",
    "z_fnn = []\n",
    "for i in range(len(fifth_nearest_neighbors)):\n",
    "    for j in range(len(points)):\n",
    "        if fifth_nearest_neighbors[i][0] == points[j][0]:\n",
    "            z_fnn.append(cuttab['ZDIST'][j])"
   ]
  },
  {
   "cell_type": "code",
   "execution_count": 31,
   "id": "9802e64b-c245-4db1-a1c3-1eff44e79f60",
   "metadata": {
    "tags": []
   },
   "outputs": [
    {
     "data": {
      "text/plain": [
       "0.019063886"
      ]
     },
     "execution_count": 31,
     "metadata": {},
     "output_type": "execute_result"
    }
   ],
   "source": [
    "z_fnn[0]"
   ]
  },
  {
   "cell_type": "code",
   "execution_count": 9,
   "id": "d13a0de8-e3a8-43d9-8049-5743d1b9b0fe",
   "metadata": {
    "tags": []
   },
   "outputs": [
    {
     "name": "stdout",
     "output_type": "stream",
     "text": [
      "[6008.93638592 6639.36834382]\n",
      "[0.04438416 0.04615979]\n"
     ]
    }
   ],
   "source": [
    "# Converting angular distances to kpc\n",
    "\n",
    "# Array of redshifts for each fifth nearest neighbor\n",
    "cutz = cuttab['ZDIST']\n",
    "z = np.array(cutz)\n",
    "\n",
    "# Convert angles in degrees to radians\n",
    "radians = (np.pi/180)*(angle)\n",
    "\n",
    "# Finding distance, in m, between the Sun and the galaxies\n",
    "H0 = 2.3*10**(-18) #/s\n",
    "c = 3*10**8 #m/s\n",
    "\n",
    "v = z*c \n",
    "d = v/H0 #m\n",
    "\n",
    "# Using small angle approximation to convert to kpc\n",
    "r_5 = (d*radians)*(3*10**(-19)) #kpc\n",
    "print(r_5[0:2])\n",
    "print(radians[0:2])"
   ]
  },
  {
   "cell_type": "code",
   "execution_count": 10,
   "id": "803b53db-d2a5-4786-97e3-3d7619026dd4",
   "metadata": {
    "tags": []
   },
   "outputs": [
    {
     "name": "stdout",
     "output_type": "stream",
     "text": [
      "[2.76952180e-08 2.26854017e-08]\n"
     ]
    }
   ],
   "source": [
    "# Find fifth nearest neighbor density\n",
    "density = 1/(r_5**2)\n",
    "print(density[0:2]) # \\kpc^2"
   ]
  },
  {
   "cell_type": "markdown",
   "id": "3392ed70-3c42-41c8-b03c-05d003259e99",
   "metadata": {},
   "source": [
    "## Ignore"
   ]
  },
  {
   "cell_type": "code",
   "execution_count": null,
   "id": "b686b74a-1d65-4485-9845-045b3d500e1d",
   "metadata": {
    "tags": []
   },
   "outputs": [],
   "source": [
    "ra = cuttab['RA']\n",
    "dec = cuttab['DEC']\n",
    "ccode = cuttab['ZDIST']\n",
    "\n",
    "#Print number of points\n",
    "print(len(ra))\n",
    "\n",
    "#Plot RA vs DEC and color it by recessional velocity\n",
    "plt.figure(figsize=(12,5))\n",
    "plt.scatter(ra,dec,c=ccode,cmap='viridis',alpha=0.8,s=2.5)\n",
    "plt.xlim(reversed(plt.xlim()))\n",
    "plt.title('Sample Galaxies')\n",
    "plt.xlabel('RA (degrees)')\n",
    "plt.ylabel('DEC (degrees)')\n",
    "plt.xlim(270,100)\n",
    "plt.ylim(0,70)\n",
    "cbar = plt.colorbar()\n",
    "cbar.set_label('Redshift',rotation=270,labelpad=20)\n",
    "plt.clim(0.002,0.026)"
   ]
  }
 ],
 "metadata": {
  "kernelspec": {
   "display_name": "Python 3 (ipykernel)",
   "language": "python",
   "name": "python3"
  },
  "language_info": {
   "codemirror_mode": {
    "name": "ipython",
    "version": 3
   },
   "file_extension": ".py",
   "mimetype": "text/x-python",
   "name": "python",
   "nbconvert_exporter": "python",
   "pygments_lexer": "ipython3",
   "version": "3.11.4"
  }
 },
 "nbformat": 4,
 "nbformat_minor": 5
}
